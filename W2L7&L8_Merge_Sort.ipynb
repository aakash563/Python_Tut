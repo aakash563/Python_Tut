{
 "cells": [
  {
   "cell_type": "code",
   "execution_count": 1,
   "id": "e442ca45",
   "metadata": {},
   "outputs": [],
   "source": [
    "def merge(A,B):\n",
    "    (m,n) = (len(A),len(B))\n",
    "    (C,i,j,k) = ([],0,0,0)\n",
    "    while k<m+n:\n",
    "        if i==m:\n",
    "            C.extend(B[j:])\n",
    "            k = k + (n-j)\n",
    "        elif j==n:\n",
    "            C.extend(A[i:])\n",
    "            k = k + (n-i)\n",
    "        elif A[i]<B[j]:\n",
    "            C.append(A[i])\n",
    "            (i,k) = (i+1,k+1)\n",
    "        else:\n",
    "            C.append(B[j])\n",
    "            (j,k) = (j+1,k+1)\n",
    "    return(C)"
   ]
  },
  {
   "cell_type": "code",
   "execution_count": 2,
   "id": "139ef74b",
   "metadata": {},
   "outputs": [
    {
     "data": {
      "text/plain": [
       "[12, 13, 15, 19, 34, 56]"
      ]
     },
     "execution_count": 2,
     "metadata": {},
     "output_type": "execute_result"
    }
   ],
   "source": [
    "A = [12,34,56]\n",
    "B=[13,15,19]\n",
    "merge(A,B)"
   ]
  },
  {
   "cell_type": "code",
   "execution_count": 3,
   "id": "61876f3e",
   "metadata": {},
   "outputs": [],
   "source": [
    "def mergeSort(A):\n",
    "    n = len(A)\n",
    "    \n",
    "    if n<=1:\n",
    "        return(A)\n",
    "    L = mergeSort(A[:n//2])\n",
    "    R = mergeSort(A[n//2:])\n",
    "    B = merge(L,R)\n",
    "    return(B)"
   ]
  },
  {
   "cell_type": "code",
   "execution_count": 4,
   "id": "a5c08481",
   "metadata": {},
   "outputs": [],
   "source": [
    "A = [21,43,57,22,11]"
   ]
  },
  {
   "cell_type": "code",
   "execution_count": 5,
   "id": "aa2b2d57",
   "metadata": {},
   "outputs": [
    {
     "data": {
      "text/plain": [
       "[11, 21, 22, 43, 57]"
      ]
     },
     "execution_count": 5,
     "metadata": {},
     "output_type": "execute_result"
    }
   ],
   "source": [
    "mergeSort(A)"
   ]
  },
  {
   "cell_type": "code",
   "execution_count": null,
   "id": "324b0b15",
   "metadata": {},
   "outputs": [],
   "source": []
  }
 ],
 "metadata": {
  "kernelspec": {
   "display_name": "Python 3 (ipykernel)",
   "language": "python",
   "name": "python3"
  },
  "language_info": {
   "codemirror_mode": {
    "name": "ipython",
    "version": 3
   },
   "file_extension": ".py",
   "mimetype": "text/x-python",
   "name": "python",
   "nbconvert_exporter": "python",
   "pygments_lexer": "ipython3",
   "version": "3.8.0"
  }
 },
 "nbformat": 4,
 "nbformat_minor": 5
}
