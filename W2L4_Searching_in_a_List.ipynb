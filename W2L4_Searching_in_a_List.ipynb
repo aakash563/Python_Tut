{
 "cells": [
  {
   "cell_type": "code",
   "execution_count": 1,
   "id": "d386d167",
   "metadata": {},
   "outputs": [],
   "source": [
    "def naivesearch(v,l):\n",
    "    for x in l:\n",
    "        if v == x:\n",
    "            return True\n",
    "    return False"
   ]
  },
  {
   "cell_type": "code",
   "execution_count": 2,
   "id": "3b2db0ea",
   "metadata": {},
   "outputs": [],
   "source": [
    "l=[1,2,3,4,9]"
   ]
  },
  {
   "cell_type": "code",
   "execution_count": 3,
   "id": "8ec19606",
   "metadata": {},
   "outputs": [
    {
     "data": {
      "text/plain": [
       "True"
      ]
     },
     "execution_count": 3,
     "metadata": {},
     "output_type": "execute_result"
    }
   ],
   "source": [
    "naivesearch(9,l)"
   ]
  },
  {
   "cell_type": "code",
   "execution_count": 4,
   "id": "acfe2e6a",
   "metadata": {},
   "outputs": [
    {
     "data": {
      "text/plain": [
       "False"
      ]
     },
     "execution_count": 4,
     "metadata": {},
     "output_type": "execute_result"
    }
   ],
   "source": [
    "naivesearch(6,l)"
   ]
  },
  {
   "cell_type": "markdown",
   "id": "90b08664",
   "metadata": {},
   "source": [
    "Binary Search"
   ]
  },
  {
   "cell_type": "code",
   "execution_count": 5,
   "id": "3166b237",
   "metadata": {},
   "outputs": [],
   "source": [
    "def binarysearch(v,l):\n",
    "    if l == []:\n",
    "        return False\n",
    "    m = len(l)//2\n",
    "    \n",
    "    if v == l[m]:\n",
    "        return True\n",
    "    if v < l[m]:\n",
    "        return(binarysearch(v,l[:m]))\n",
    "    else:\n",
    "        return(binarysearch(v,l[m+1:]))"
   ]
  },
  {
   "cell_type": "code",
   "execution_count": 6,
   "id": "eda5ebc8",
   "metadata": {},
   "outputs": [
    {
     "data": {
      "text/plain": [
       "True"
      ]
     },
     "execution_count": 6,
     "metadata": {},
     "output_type": "execute_result"
    }
   ],
   "source": [
    "binarysearch(9,l)"
   ]
  },
  {
   "cell_type": "code",
   "execution_count": 7,
   "id": "7958768e",
   "metadata": {},
   "outputs": [
    {
     "data": {
      "text/plain": [
       "False"
      ]
     },
     "execution_count": 7,
     "metadata": {},
     "output_type": "execute_result"
    }
   ],
   "source": [
    "binarysearch(6,l)"
   ]
  },
  {
   "cell_type": "code",
   "execution_count": null,
   "id": "595044e6",
   "metadata": {},
   "outputs": [],
   "source": []
  }
 ],
 "metadata": {
  "kernelspec": {
   "display_name": "Python 3 (ipykernel)",
   "language": "python",
   "name": "python3"
  },
  "language_info": {
   "codemirror_mode": {
    "name": "ipython",
    "version": 3
   },
   "file_extension": ".py",
   "mimetype": "text/x-python",
   "name": "python",
   "nbconvert_exporter": "python",
   "pygments_lexer": "ipython3",
   "version": "3.8.0"
  }
 },
 "nbformat": 4,
 "nbformat_minor": 5
}
