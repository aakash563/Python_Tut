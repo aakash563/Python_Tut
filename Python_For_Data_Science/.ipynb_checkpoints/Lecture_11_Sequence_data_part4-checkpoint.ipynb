{
 "cells": [
  {
   "cell_type": "markdown",
   "id": "d8c71077",
   "metadata": {},
   "source": [
    "# General sequence data methods"
   ]
  },
  {
   "cell_type": "markdown",
   "id": "676cb873",
   "metadata": {},
   "source": [
    "# String Methods"
   ]
  },
  {
   "cell_type": "code",
   "execution_count": 1,
   "id": "6d755771",
   "metadata": {},
   "outputs": [
    {
     "name": "stdout",
     "output_type": "stream",
     "text": [
      "learning is fun !\n"
     ]
    }
   ],
   "source": [
    "strSample = 'learning is fun !'\n",
    "print(strSample)"
   ]
  },
  {
   "cell_type": "code",
   "execution_count": 3,
   "id": "4856df4d",
   "metadata": {},
   "outputs": [
    {
     "data": {
      "text/plain": [
       "'Learning is fun !'"
      ]
     },
     "execution_count": 3,
     "metadata": {},
     "output_type": "execute_result"
    }
   ],
   "source": [
    "strSample.capitalize() # return the string with its first \n",
    "# character capitilized and rest lowercased"
   ]
  },
  {
   "cell_type": "code",
   "execution_count": 5,
   "id": "7b4e67b0",
   "metadata": {},
   "outputs": [
    {
     "data": {
      "text/plain": [
       "'Learning Is Fun !'"
      ]
     },
     "execution_count": 5,
     "metadata": {},
     "output_type": "execute_result"
    }
   ],
   "source": [
    "strSample.title() # to captilalise the first character of each word"
   ]
  },
  {
   "cell_type": "code",
   "execution_count": null,
   "id": "26e8a915",
   "metadata": {},
   "outputs": [],
   "source": []
  }
 ],
 "metadata": {
  "kernelspec": {
   "display_name": "Python 3 (ipykernel)",
   "language": "python",
   "name": "python3"
  },
  "language_info": {
   "codemirror_mode": {
    "name": "ipython",
    "version": 3
   },
   "file_extension": ".py",
   "mimetype": "text/x-python",
   "name": "python",
   "nbconvert_exporter": "python",
   "pygments_lexer": "ipython3",
   "version": "3.8.0"
  }
 },
 "nbformat": 4,
 "nbformat_minor": 5
}
