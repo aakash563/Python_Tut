{
 "cells": [
  {
   "cell_type": "markdown",
   "id": "a08c6fa6",
   "metadata": {},
   "source": [
    "# Sequence data type\n",
    "    * Strings - Sequence of characters - \"(or)'\n",
    "    * Tuples - Sequence of compound data - ()\n",
    "    * Lists - Sequence of multi-data type object - []\n",
    "    * Arrays - Sequence of constrained list of object (all objects of same datatype) using array module from array package\n",
    "    * Dictionary - Sequence of key-value pairs - {}\n",
    "    * Sets - Sequence of unordered collection of unique data\n",
    "    * Range - Used for looping - using built-in range()\n",
    "    * These can offer unique functionalities for the variables to contain and handle more than one datatype at a time. Supports operation such as indexing, slicing, concatenation, multiplication etc"
   ]
  },
  {
   "cell_type": "markdown",
   "id": "70cb0c54",
   "metadata": {},
   "source": [
    "# Sequence object initialization"
   ]
  },
  {
   "cell_type": "code",
   "execution_count": null,
   "id": "edd5cea7",
   "metadata": {},
   "outputs": [],
   "source": []
  }
 ],
 "metadata": {
  "kernelspec": {
   "display_name": "Python 3 (ipykernel)",
   "language": "python",
   "name": "python3"
  },
  "language_info": {
   "codemirror_mode": {
    "name": "ipython",
    "version": 3
   },
   "file_extension": ".py",
   "mimetype": "text/x-python",
   "name": "python",
   "nbconvert_exporter": "python",
   "pygments_lexer": "ipython3",
   "version": "3.8.0"
  }
 },
 "nbformat": 4,
 "nbformat_minor": 5
}
