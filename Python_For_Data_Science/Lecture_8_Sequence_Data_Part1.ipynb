{
 "cells": [
  {
   "cell_type": "markdown",
   "id": "ee88dce7",
   "metadata": {},
   "source": [
    "# Sequence data type\n",
    "    * Strings - Sequence of characters - \"(or)'\n",
    "    * Tuples - Sequence of compound data - ()\n",
    "    * Lists - Sequence of multi-data type object - []\n",
    "    * Arrays - Sequence of constrained list of object (all objects of same datatype) using array module from array package\n",
    "    * Dictionary - Sequence of key-value pairs - {}\n",
    "    * Sets - Sequence of unordered collection of unique data\n",
    "    * Range - Used for looping - using built-in range()\n",
    "    * These can offer unique functionalities for the variables to contain and handle more than one datatype at a time. Supports operation such as indexing, slicing, concatenation, multiplication etc"
   ]
  },
  {
   "cell_type": "markdown",
   "id": "befea02d",
   "metadata": {},
   "source": [
    "# Sequence object initialization"
   ]
  },
  {
   "cell_type": "code",
   "execution_count": 2,
   "id": "c9704551",
   "metadata": {},
   "outputs": [],
   "source": [
    "strSample = 'learning'  # string"
   ]
  },
  {
   "cell_type": "code",
   "execution_count": 3,
   "id": "3334c555",
   "metadata": {},
   "outputs": [
    {
     "name": "stdout",
     "output_type": "stream",
     "text": [
      "learning\n"
     ]
    }
   ],
   "source": [
    "print(strSample)"
   ]
  },
  {
   "cell_type": "code",
   "execution_count": 4,
   "id": "94cf5268",
   "metadata": {},
   "outputs": [
    {
     "name": "stdout",
     "output_type": "stream",
     "text": [
      "[1, 2, 3, 3, 3, 4, 5]\n"
     ]
    }
   ],
   "source": [
    "lstNumbers = [1,2,3,3,3,4,5]   # list with numbers\n",
    "print(lstNumbers)              # (having duplicate value)"
   ]
  },
  {
   "cell_type": "code",
   "execution_count": 5,
   "id": "507e2194",
   "metadata": {},
   "outputs": [
    {
     "name": "stdout",
     "output_type": "stream",
     "text": [
      "[1, 2, 'a', 'sam', 2]\n"
     ]
    }
   ],
   "source": [
    "lstSample = [1,2,'a','sam',2]   # list with mixed data type\n",
    "print(lstSample)                  # (Having numbers and strings)"
   ]
  },
  {
   "cell_type": "code",
   "execution_count": 7,
   "id": "9a31f8de",
   "metadata": {},
   "outputs": [
    {
     "name": "stdout",
     "output_type": "stream",
     "text": [
      "array('i', [1, 2, 3, 4])\n"
     ]
    }
   ],
   "source": [
    "from array import *                   # Importing  array module\n",
    "arrSample = array('i',[1,2,3,4])         # array\n",
    "print(arrSample)"
   ]
  },
  {
   "cell_type": "code",
   "execution_count": 8,
   "id": "87f7d752",
   "metadata": {},
   "outputs": [
    {
     "name": "stdout",
     "output_type": "stream",
     "text": [
      "1\n",
      "2\n",
      "3\n",
      "4\n"
     ]
    }
   ],
   "source": [
    "for x in arrSample:\n",
    "    print(x)"
   ]
  },
  {
   "cell_type": "code",
   "execution_count": 9,
   "id": "740ddd8d",
   "metadata": {},
   "outputs": [],
   "source": [
    "tupSample = (1,2,3,4,3,'py')      # tuple"
   ]
  },
  {
   "cell_type": "code",
   "execution_count": 11,
   "id": "96e5edbe",
   "metadata": {},
   "outputs": [
    {
     "name": "stdout",
     "output_type": "stream",
     "text": [
      "(1, 2, 'sample')\n"
     ]
    }
   ],
   "source": [
    "tupSample = 1,2,'sample'        # tuple packing\n",
    "print(tupSample)"
   ]
  },
  {
   "cell_type": "code",
   "execution_count": 12,
   "id": "0ea51d6f",
   "metadata": {},
   "outputs": [],
   "source": [
    "dictSample = {1:'first','second':2,3:3,'four':'4'}  # Dictionary"
   ]
  },
  {
   "cell_type": "code",
   "execution_count": 13,
   "id": "88de2407",
   "metadata": {},
   "outputs": [
    {
     "data": {
      "text/plain": [
       "{'first': 1, 'second': 2, 'four': 4}"
      ]
     },
     "execution_count": 13,
     "metadata": {},
     "output_type": "execute_result"
    }
   ],
   "source": [
    "# Creating dictionary using 'dict' keyword\n",
    "dict_list = dict([('first',1),('second',2),('four',4)])\n",
    "dict_list"
   ]
  },
  {
   "cell_type": "code",
   "execution_count": 14,
   "id": "371eb1f3",
   "metadata": {},
   "outputs": [
    {
     "data": {
      "text/plain": [
       "dict_keys(['first', 'second', 'four'])"
      ]
     },
     "execution_count": 14,
     "metadata": {},
     "output_type": "execute_result"
    }
   ],
   "source": [
    "dict_list.keys()"
   ]
  },
  {
   "cell_type": "code",
   "execution_count": 15,
   "id": "3cb0fc65",
   "metadata": {},
   "outputs": [
    {
     "data": {
      "text/plain": [
       "dict_values([1, 2, 4])"
      ]
     },
     "execution_count": 15,
     "metadata": {},
     "output_type": "execute_result"
    }
   ],
   "source": [
    "dict_list.values()"
   ]
  },
  {
   "cell_type": "code",
   "execution_count": 16,
   "id": "4e180cf4",
   "metadata": {},
   "outputs": [
    {
     "data": {
      "text/plain": [
       "dict_items([('first', 1), ('second', 2), ('four', 4)])"
      ]
     },
     "execution_count": 16,
     "metadata": {},
     "output_type": "execute_result"
    }
   ],
   "source": [
    "dict_list.items()"
   ]
  },
  {
   "cell_type": "code",
   "execution_count": 17,
   "id": "667dab81",
   "metadata": {},
   "outputs": [
    {
     "data": {
      "text/plain": [
       "{24, 87.5, 'data', 'example'}"
      ]
     },
     "execution_count": 17,
     "metadata": {},
     "output_type": "execute_result"
    }
   ],
   "source": [
    "setSample = {'example',24, 87.5, 'data', 24, 'data'} # set\n",
    "setSample"
   ]
  },
  {
   "cell_type": "code",
   "execution_count": 20,
   "id": "97f43274",
   "metadata": {},
   "outputs": [
    {
     "data": {
      "text/plain": [
       "{'a', 'e', 'l', 'm', 'p', 'x'}"
      ]
     },
     "execution_count": 20,
     "metadata": {},
     "output_type": "execute_result"
    }
   ],
   "source": [
    "set('example')"
   ]
  },
  {
   "cell_type": "code",
   "execution_count": 19,
   "id": "ba0fdc9f",
   "metadata": {},
   "outputs": [
    {
     "data": {
      "text/plain": [
       "range(1, 12, 4)"
      ]
     },
     "execution_count": 19,
     "metadata": {},
     "output_type": "execute_result"
    }
   ],
   "source": [
    "rangeSample = range(1,12,4)\n",
    "rangeSample"
   ]
  },
  {
   "cell_type": "code",
   "execution_count": 21,
   "id": "1bb661bb",
   "metadata": {},
   "outputs": [
    {
     "name": "stdout",
     "output_type": "stream",
     "text": [
      "1\n",
      "5\n",
      "9\n"
     ]
    }
   ],
   "source": [
    "for x in rangeSample: print(x)"
   ]
  },
  {
   "cell_type": "code",
   "execution_count": 22,
   "id": "c7db1516",
   "metadata": {},
   "outputs": [],
   "source": [
    "s = 'machinelearning'"
   ]
  },
  {
   "cell_type": "code",
   "execution_count": 23,
   "id": "b5b2a92e",
   "metadata": {},
   "outputs": [],
   "source": [
    "def print_rep(s):\n",
    "    singleList =[]\n",
    "    multipleDict = {}\n",
    "    for i in s:\n",
    "        if i in multipleDict.keys():\n",
    "            multipleDict[i] += 1\n",
    "        else:\n",
    "            multipleDict[i] = 1\n",
    "    return multipleDict"
   ]
  },
  {
   "cell_type": "code",
   "execution_count": 24,
   "id": "bfa2e9ed",
   "metadata": {},
   "outputs": [
    {
     "data": {
      "text/plain": [
       "{'m': 1,\n",
       " 'a': 2,\n",
       " 'c': 1,\n",
       " 'h': 1,\n",
       " 'i': 2,\n",
       " 'n': 3,\n",
       " 'e': 2,\n",
       " 'l': 1,\n",
       " 'r': 1,\n",
       " 'g': 1}"
      ]
     },
     "execution_count": 24,
     "metadata": {},
     "output_type": "execute_result"
    }
   ],
   "source": [
    "print_rep(s)"
   ]
  },
  {
   "cell_type": "code",
   "execution_count": 34,
   "id": "21fd8cf0",
   "metadata": {},
   "outputs": [],
   "source": [
    "def print_rep(s):\n",
    "    repetedList =[]\n",
    "    sigleList = []\n",
    "    multipleDict = {}\n",
    "    for i in s:\n",
    "        if i in multipleDict.keys():\n",
    "            multipleDict[i] += 1\n",
    "        else:\n",
    "            multipleDict[i] = 1\n",
    "    for x,y in multipleDict.items():\n",
    "        if y > 1:\n",
    "            repetedList.append(x)\n",
    "        else:\n",
    "            sigleList.append(x)\n",
    "    return (repetedList)"
   ]
  },
  {
   "cell_type": "code",
   "execution_count": 35,
   "id": "ae375442",
   "metadata": {},
   "outputs": [
    {
     "data": {
      "text/plain": [
       "['a', 'i', 'n', 'e']"
      ]
     },
     "execution_count": 35,
     "metadata": {},
     "output_type": "execute_result"
    }
   ],
   "source": [
    "print_rep(s)"
   ]
  },
  {
   "cell_type": "code",
   "execution_count": null,
   "id": "de12830a",
   "metadata": {},
   "outputs": [],
   "source": []
  }
 ],
 "metadata": {
  "kernelspec": {
   "display_name": "Python 3 (ipykernel)",
   "language": "python",
   "name": "python3"
  },
  "language_info": {
   "codemirror_mode": {
    "name": "ipython",
    "version": 3
   },
   "file_extension": ".py",
   "mimetype": "text/x-python",
   "name": "python",
   "nbconvert_exporter": "python",
   "pygments_lexer": "ipython3",
   "version": "3.8.0"
  }
 },
 "nbformat": 4,
 "nbformat_minor": 5
}
