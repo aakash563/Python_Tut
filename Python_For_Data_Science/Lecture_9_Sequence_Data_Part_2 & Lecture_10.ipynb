{
 "cells": [
  {
   "cell_type": "markdown",
   "id": "86c1b3c1",
   "metadata": {},
   "source": [
    "# Sequence data operation: Indexing\n",
    "* Indexing just means accessing elements, To access, the square brackets can be used. \n",
    "* There are many methods to access elements in python \n",
    "* index() method finds the first occurrence of the specified value and return its position\n",
    "* Syntax: object.index(sub[,start[,end]]), object[index]\n",
    "    * Index of the element is used to access an element from orders sequences\n",
    "    * Ihe index start 0\n",
    "    * Negative indexing is used to access elements from the end of a list\n",
    "    * In negative indexing, the last element of a list has the index -1"
   ]
  },
  {
   "cell_type": "markdown",
   "id": "9b930c76",
   "metadata": {},
   "source": [
    "### String: Indexing"
   ]
  },
  {
   "cell_type": "code",
   "execution_count": 1,
   "id": "997376eb",
   "metadata": {},
   "outputs": [],
   "source": [
    "strSample = 'learning'              # String"
   ]
  },
  {
   "cell_type": "code",
   "execution_count": 2,
   "id": "c2c52db4",
   "metadata": {},
   "outputs": [
    {
     "data": {
      "text/plain": [
       "0"
      ]
     },
     "execution_count": 2,
     "metadata": {},
     "output_type": "execute_result"
    }
   ],
   "source": [
    "strSample.index('l')       # to find the index of substring 'l' from the string 'learning'"
   ]
  },
  {
   "cell_type": "code",
   "execution_count": 3,
   "id": "2222ef6f",
   "metadata": {},
   "outputs": [
    {
     "data": {
      "text/plain": [
       "4"
      ]
     },
     "execution_count": 3,
     "metadata": {},
     "output_type": "execute_result"
    }
   ],
   "source": [
    "strSample.index('ning') # to find the index of substring 'ning' from the string 'learning'\n"
   ]
  },
  {
   "cell_type": "code",
   "execution_count": 4,
   "id": "229d76c1",
   "metadata": {},
   "outputs": [
    {
     "data": {
      "text/plain": [
       "'g'"
      ]
     },
     "execution_count": 4,
     "metadata": {},
     "output_type": "execute_result"
    }
   ],
   "source": [
    "strSample[7]"
   ]
  },
  {
   "cell_type": "code",
   "execution_count": 5,
   "id": "12aa42c1",
   "metadata": {},
   "outputs": [
    {
     "data": {
      "text/plain": [
       "'n'"
      ]
     },
     "execution_count": 5,
     "metadata": {},
     "output_type": "execute_result"
    }
   ],
   "source": [
    "strSample[-2]"
   ]
  },
  {
   "cell_type": "code",
   "execution_count": 6,
   "id": "ef5080eb",
   "metadata": {},
   "outputs": [
    {
     "ename": "IndexError",
     "evalue": "string index out of range",
     "output_type": "error",
     "traceback": [
      "\u001b[1;31m---------------------------------------------------------------------------\u001b[0m",
      "\u001b[1;31mIndexError\u001b[0m                                Traceback (most recent call last)",
      "Cell \u001b[1;32mIn[6], line 1\u001b[0m\n\u001b[1;32m----> 1\u001b[0m \u001b[43mstrSample\u001b[49m\u001b[43m[\u001b[49m\u001b[38;5;241;43m-\u001b[39;49m\u001b[38;5;241;43m9\u001b[39;49m\u001b[43m]\u001b[49m\n",
      "\u001b[1;31mIndexError\u001b[0m: string index out of range"
     ]
    }
   ],
   "source": [
    "strSample[-9]"
   ]
  },
  {
   "cell_type": "markdown",
   "id": "fea02101",
   "metadata": {},
   "source": [
    "# List: Indexing\n",
    "* Syntax: list_name.index(element, start,end)"
   ]
  },
  {
   "cell_type": "code",
   "execution_count": null,
   "id": "3d7f6432",
   "metadata": {},
   "outputs": [],
   "source": [
    "lstSample = [1,2,'a','sam',2] # list"
   ]
  },
  {
   "cell_type": "code",
   "execution_count": 7,
   "id": "c83ecabd",
   "metadata": {},
   "outputs": [
    {
     "ename": "NameError",
     "evalue": "name 'lstSample' is not defined",
     "output_type": "error",
     "traceback": [
      "\u001b[1;31m---------------------------------------------------------------------------\u001b[0m",
      "\u001b[1;31mNameError\u001b[0m                                 Traceback (most recent call last)",
      "Cell \u001b[1;32mIn[7], line 1\u001b[0m\n\u001b[1;32m----> 1\u001b[0m \u001b[43mlstSample\u001b[49m\u001b[38;5;241m.\u001b[39mindex(\u001b[38;5;124m'\u001b[39m\u001b[38;5;124msam\u001b[39m\u001b[38;5;124m'\u001b[39m) \u001b[38;5;66;03m# to find the index element 'sam'\u001b[39;00m\n",
      "\u001b[1;31mNameError\u001b[0m: name 'lstSample' is not defined"
     ]
    }
   ],
   "source": [
    "lstSample.index('sam') # to find the index element 'sam'"
   ]
  },
  {
   "cell_type": "code",
   "execution_count": 8,
   "id": "c3afa5c3",
   "metadata": {},
   "outputs": [
    {
     "ename": "NameError",
     "evalue": "name 'lstSample' is not defined",
     "output_type": "error",
     "traceback": [
      "\u001b[1;31m---------------------------------------------------------------------------\u001b[0m",
      "\u001b[1;31mNameError\u001b[0m                                 Traceback (most recent call last)",
      "Cell \u001b[1;32mIn[8], line 1\u001b[0m\n\u001b[1;32m----> 1\u001b[0m \u001b[43mlstSample\u001b[49m[\u001b[38;5;241m2\u001b[39m]\n",
      "\u001b[1;31mNameError\u001b[0m: name 'lstSample' is not defined"
     ]
    }
   ],
   "source": [
    "lstSample[2]"
   ]
  },
  {
   "cell_type": "code",
   "execution_count": 9,
   "id": "f2725026",
   "metadata": {},
   "outputs": [
    {
     "ename": "NameError",
     "evalue": "name 'lstSample' is not defined",
     "output_type": "error",
     "traceback": [
      "\u001b[1;31m---------------------------------------------------------------------------\u001b[0m",
      "\u001b[1;31mNameError\u001b[0m                                 Traceback (most recent call last)",
      "Cell \u001b[1;32mIn[9], line 1\u001b[0m\n\u001b[1;32m----> 1\u001b[0m \u001b[43mlstSample\u001b[49m[\u001b[38;5;241m-\u001b[39m\u001b[38;5;241m1\u001b[39m]\n",
      "\u001b[1;31mNameError\u001b[0m: name 'lstSample' is not defined"
     ]
    }
   ],
   "source": [
    "lstSample[-1]"
   ]
  },
  {
   "cell_type": "markdown",
   "id": "531c21be",
   "metadata": {},
   "source": [
    "## Array: Indexing"
   ]
  },
  {
   "cell_type": "code",
   "execution_count": 10,
   "id": "10db4a3b",
   "metadata": {},
   "outputs": [],
   "source": [
    "from array import * # Importing array module"
   ]
  },
  {
   "cell_type": "code",
   "execution_count": 11,
   "id": "ca823387",
   "metadata": {},
   "outputs": [],
   "source": [
    "arrSample = array('i',[1,2,3,4]) # array with integer type"
   ]
  },
  {
   "cell_type": "code",
   "execution_count": 12,
   "id": "a87a2e9e",
   "metadata": {},
   "outputs": [
    {
     "name": "stdout",
     "output_type": "stream",
     "text": [
      "1\n",
      "2\n",
      "3\n",
      "4\n"
     ]
    }
   ],
   "source": [
    "for x in arrSample: print(x)"
   ]
  },
  {
   "cell_type": "code",
   "execution_count": 13,
   "id": "c9d407d4",
   "metadata": {},
   "outputs": [
    {
     "data": {
      "text/plain": [
       "2"
      ]
     },
     "execution_count": 13,
     "metadata": {},
     "output_type": "execute_result"
    }
   ],
   "source": [
    "arrSample[-3] # to find the 3rd last element from 'arrSample'"
   ]
  },
  {
   "cell_type": "markdown",
   "id": "4e6a2c0a",
   "metadata": {},
   "source": [
    "### Tuple: Indexing"
   ]
  },
  {
   "cell_type": "code",
   "execution_count": 14,
   "id": "ee1759ee",
   "metadata": {},
   "outputs": [],
   "source": [
    "tupSample = (1,2,3,4,3,'py')   # tuple"
   ]
  },
  {
   "cell_type": "code",
   "execution_count": 15,
   "id": "e4bedd8b",
   "metadata": {},
   "outputs": [
    {
     "data": {
      "text/plain": [
       "5"
      ]
     },
     "execution_count": 15,
     "metadata": {},
     "output_type": "execute_result"
    }
   ],
   "source": [
    "tupSample.index('py')  # to find the position of the element 'py'"
   ]
  },
  {
   "cell_type": "code",
   "execution_count": 16,
   "id": "539c6a5a",
   "metadata": {},
   "outputs": [
    {
     "data": {
      "text/plain": [
       "3"
      ]
     },
     "execution_count": 16,
     "metadata": {},
     "output_type": "execute_result"
    }
   ],
   "source": [
    "tupSample[2]  # to find the 3rd elememt of the 'rupSample'"
   ]
  },
  {
   "cell_type": "markdown",
   "id": "e20815db",
   "metadata": {},
   "source": [
    "### Set: Indexing"
   ]
  },
  {
   "cell_type": "code",
   "execution_count": 17,
   "id": "d78345fe",
   "metadata": {},
   "outputs": [
    {
     "data": {
      "text/plain": [
       "{24, 87.5, 'data', 'example'}"
      ]
     },
     "execution_count": 17,
     "metadata": {},
     "output_type": "execute_result"
    }
   ],
   "source": [
    "setSample = {'example',24,87.5,'data',24,'data'} # sets\n",
    "setSample"
   ]
  },
  {
   "cell_type": "code",
   "execution_count": 18,
   "id": "9c26b9ef",
   "metadata": {},
   "outputs": [
    {
     "ename": "TypeError",
     "evalue": "'set' object is not subscriptable",
     "output_type": "error",
     "traceback": [
      "\u001b[1;31m---------------------------------------------------------------------------\u001b[0m",
      "\u001b[1;31mTypeError\u001b[0m                                 Traceback (most recent call last)",
      "Cell \u001b[1;32mIn[18], line 1\u001b[0m\n\u001b[1;32m----> 1\u001b[0m \u001b[43msetSample\u001b[49m\u001b[43m[\u001b[49m\u001b[38;5;241;43m4\u001b[39;49m\u001b[43m]\u001b[49m\n",
      "\u001b[1;31mTypeError\u001b[0m: 'set' object is not subscriptable"
     ]
    }
   ],
   "source": [
    "setSample[4]"
   ]
  },
  {
   "cell_type": "markdown",
   "id": "f791c4ee",
   "metadata": {},
   "source": [
    "###  Dictionary: Indexing"
   ]
  },
  {
   "cell_type": "markdown",
   "id": "9923dfa7",
   "metadata": {},
   "source": [
    "* The Python Dictionary object provides a key: value indexing facility\n",
    "* The values in the dictionary are indexed by keys, the are not helf in any order"
   ]
  },
  {
   "cell_type": "code",
   "execution_count": 19,
   "id": "0715f632",
   "metadata": {},
   "outputs": [],
   "source": [
    "dictSample = {1:'first','second':2,3:3,'four':'4'} # dictionary"
   ]
  },
  {
   "cell_type": "code",
   "execution_count": 20,
   "id": "3eec8b1b",
   "metadata": {},
   "outputs": [
    {
     "ename": "KeyError",
     "evalue": "2",
     "output_type": "error",
     "traceback": [
      "\u001b[1;31m---------------------------------------------------------------------------\u001b[0m",
      "\u001b[1;31mKeyError\u001b[0m                                  Traceback (most recent call last)",
      "Cell \u001b[1;32mIn[20], line 1\u001b[0m\n\u001b[1;32m----> 1\u001b[0m \u001b[43mdictSample\u001b[49m\u001b[43m[\u001b[49m\u001b[38;5;241;43m2\u001b[39;49m\u001b[43m]\u001b[49m         \u001b[38;5;66;03m# keyError: 2 - indexing by values is not applicable in dictionary\u001b[39;00m\n",
      "\u001b[1;31mKeyError\u001b[0m: 2"
     ]
    }
   ],
   "source": [
    "dictSample[2]         # keyError: 2 - indexing by values is not applicable in dictionary"
   ]
  },
  {
   "cell_type": "code",
   "execution_count": 21,
   "id": "f3c12166",
   "metadata": {},
   "outputs": [
    {
     "data": {
      "text/plain": [
       "'first'"
      ]
     },
     "execution_count": 21,
     "metadata": {},
     "output_type": "execute_result"
    }
   ],
   "source": [
    "dictSample[1]"
   ]
  },
  {
   "cell_type": "code",
   "execution_count": 22,
   "id": "b44bddae",
   "metadata": {},
   "outputs": [
    {
     "data": {
      "text/plain": [
       "2"
      ]
     },
     "execution_count": 22,
     "metadata": {},
     "output_type": "execute_result"
    }
   ],
   "source": [
    "dictSample['second']"
   ]
  },
  {
   "cell_type": "code",
   "execution_count": 23,
   "id": "d78ee0d0",
   "metadata": {},
   "outputs": [
    {
     "data": {
      "text/plain": [
       "dict_keys([1, 'second', 3, 'four'])"
      ]
     },
     "execution_count": 23,
     "metadata": {},
     "output_type": "execute_result"
    }
   ],
   "source": [
    "dictSample.keys()"
   ]
  },
  {
   "cell_type": "code",
   "execution_count": 24,
   "id": "91b2dbab",
   "metadata": {},
   "outputs": [
    {
     "data": {
      "text/plain": [
       "dict_values(['first', 2, 3, '4'])"
      ]
     },
     "execution_count": 24,
     "metadata": {},
     "output_type": "execute_result"
    }
   ],
   "source": [
    "dictSample.values()"
   ]
  },
  {
   "cell_type": "code",
   "execution_count": 25,
   "id": "1b5682e6",
   "metadata": {},
   "outputs": [
    {
     "data": {
      "text/plain": [
       "('four', '4')"
      ]
     },
     "execution_count": 25,
     "metadata": {},
     "output_type": "execute_result"
    }
   ],
   "source": [
    "dictSample.popitem()"
   ]
  },
  {
   "cell_type": "code",
   "execution_count": 26,
   "id": "3051daca",
   "metadata": {},
   "outputs": [
    {
     "data": {
      "text/plain": [
       "dict_items([(1, 'first'), ('second', 2), (3, 3)])"
      ]
     },
     "execution_count": 26,
     "metadata": {},
     "output_type": "execute_result"
    }
   ],
   "source": [
    "dictSample.items()"
   ]
  },
  {
   "cell_type": "code",
   "execution_count": 27,
   "id": "d1d3ea6e",
   "metadata": {},
   "outputs": [],
   "source": [
    "dictSample['four'] = '4'"
   ]
  },
  {
   "cell_type": "code",
   "execution_count": 28,
   "id": "e7ab1afa",
   "metadata": {},
   "outputs": [
    {
     "data": {
      "text/plain": [
       "dict_items([(1, 'first'), ('second', 2), (3, 3), ('four', '4')])"
      ]
     },
     "execution_count": 28,
     "metadata": {},
     "output_type": "execute_result"
    }
   ],
   "source": [
    "dictSample.items()"
   ]
  },
  {
   "cell_type": "markdown",
   "id": "28f87f60",
   "metadata": {},
   "source": [
    "#### range: Indexing"
   ]
  },
  {
   "cell_type": "code",
   "execution_count": 29,
   "id": "ac77477d",
   "metadata": {},
   "outputs": [
    {
     "name": "stdout",
     "output_type": "stream",
     "text": [
      "1\n",
      "5\n",
      "9\n"
     ]
    }
   ],
   "source": [
    "rangeSample = range(1,12,4) # built-in sequence type used for looping\n",
    "for x in rangeSample: print(x) # print the value of rangeSample"
   ]
  },
  {
   "cell_type": "code",
   "execution_count": 30,
   "id": "0c9d544c",
   "metadata": {},
   "outputs": [
    {
     "data": {
      "text/plain": [
       "0"
      ]
     },
     "execution_count": 30,
     "metadata": {},
     "output_type": "execute_result"
    }
   ],
   "source": [
    "rangeSample.index(1)"
   ]
  },
  {
   "cell_type": "code",
   "execution_count": 31,
   "id": "655e363d",
   "metadata": {},
   "outputs": [
    {
     "ename": "ValueError",
     "evalue": "0 is not in range",
     "output_type": "error",
     "traceback": [
      "\u001b[1;31m---------------------------------------------------------------------------\u001b[0m",
      "\u001b[1;31mValueError\u001b[0m                                Traceback (most recent call last)",
      "Cell \u001b[1;32mIn[31], line 1\u001b[0m\n\u001b[1;32m----> 1\u001b[0m \u001b[43mrangeSample\u001b[49m\u001b[38;5;241;43m.\u001b[39;49m\u001b[43mindex\u001b[49m\u001b[43m(\u001b[49m\u001b[38;5;241;43m0\u001b[39;49m\u001b[43m)\u001b[49m\n",
      "\u001b[1;31mValueError\u001b[0m: 0 is not in range"
     ]
    }
   ],
   "source": [
    "rangeSample.index(0)"
   ]
  },
  {
   "cell_type": "code",
   "execution_count": 32,
   "id": "be35b5eb",
   "metadata": {},
   "outputs": [
    {
     "data": {
      "text/plain": [
       "2"
      ]
     },
     "execution_count": 32,
     "metadata": {},
     "output_type": "execute_result"
    }
   ],
   "source": [
    "rangeSample.index(9)"
   ]
  },
  {
   "cell_type": "code",
   "execution_count": 33,
   "id": "3e8b46f5",
   "metadata": {},
   "outputs": [
    {
     "data": {
      "text/plain": [
       "5"
      ]
     },
     "execution_count": 33,
     "metadata": {},
     "output_type": "execute_result"
    }
   ],
   "source": [
    "rangeSample[1]"
   ]
  },
  {
   "cell_type": "code",
   "execution_count": 34,
   "id": "88309566",
   "metadata": {},
   "outputs": [
    {
     "ename": "IndexError",
     "evalue": "range object index out of range",
     "output_type": "error",
     "traceback": [
      "\u001b[1;31m---------------------------------------------------------------------------\u001b[0m",
      "\u001b[1;31mIndexError\u001b[0m                                Traceback (most recent call last)",
      "Cell \u001b[1;32mIn[34], line 1\u001b[0m\n\u001b[1;32m----> 1\u001b[0m \u001b[43mrangeSample\u001b[49m\u001b[43m[\u001b[49m\u001b[38;5;241;43m9\u001b[39;49m\u001b[43m]\u001b[49m\n",
      "\u001b[1;31mIndexError\u001b[0m: range object index out of range"
     ]
    }
   ],
   "source": [
    "rangeSample[9]"
   ]
  },
  {
   "cell_type": "markdown",
   "id": "81cfc24c",
   "metadata": {},
   "source": [
    "#### Sequence data operations: slicing\n",
    "* The slice object is used to slice a given sequence (string,bytes,tuple, list, or range) or any object which supports sequence protocol\n",
    "* The syntax of slice are slice(stop)\n",
    "* slice(start,stop, step)"
   ]
  },
  {
   "cell_type": "code",
   "execution_count": 35,
   "id": "39f187fb",
   "metadata": {},
   "outputs": [
    {
     "name": "stdout",
     "output_type": "stream",
     "text": [
      "learning\n"
     ]
    },
    {
     "data": {
      "text/plain": [
       "'er'"
      ]
     },
     "execution_count": 35,
     "metadata": {},
     "output_type": "execute_result"
    }
   ],
   "source": [
    "print(strSample)\n",
    "strSample[slice(1,4,2)]"
   ]
  },
  {
   "cell_type": "code",
   "execution_count": 36,
   "id": "e262f237",
   "metadata": {},
   "outputs": [
    {
     "data": {
      "text/plain": [
       "'learning'"
      ]
     },
     "execution_count": 36,
     "metadata": {},
     "output_type": "execute_result"
    }
   ],
   "source": [
    "strSample[:] # learning"
   ]
  },
  {
   "cell_type": "code",
   "execution_count": 37,
   "id": "f3d29450",
   "metadata": {},
   "outputs": [],
   "source": [
    "lstSample = [1,2,'a','sam',2]"
   ]
  },
  {
   "cell_type": "code",
   "execution_count": 38,
   "id": "3c6212f5",
   "metadata": {},
   "outputs": [
    {
     "name": "stdout",
     "output_type": "stream",
     "text": [
      "[1, 2, 'a']\n"
     ]
    }
   ],
   "source": [
    "print(lstSample[:3])"
   ]
  },
  {
   "cell_type": "code",
   "execution_count": 39,
   "id": "78b592f7",
   "metadata": {},
   "outputs": [
    {
     "name": "stdout",
     "output_type": "stream",
     "text": [
      "['a', 'sam', 2]\n"
     ]
    }
   ],
   "source": [
    "print(lstSample[2:])"
   ]
  },
  {
   "cell_type": "code",
   "execution_count": 40,
   "id": "f5ce1935",
   "metadata": {},
   "outputs": [
    {
     "data": {
      "text/plain": [
       "['a', 'sam']"
      ]
     },
     "execution_count": 40,
     "metadata": {},
     "output_type": "execute_result"
    }
   ],
   "source": [
    "lstSample[2:4]"
   ]
  },
  {
   "cell_type": "code",
   "execution_count": 42,
   "id": "6fd569f4",
   "metadata": {},
   "outputs": [
    {
     "data": {
      "text/plain": [
       "{1: 'first', 'second': 2, 3: 3, 'four': '4'}"
      ]
     },
     "execution_count": 42,
     "metadata": {},
     "output_type": "execute_result"
    }
   ],
   "source": [
    "dictSample"
   ]
  },
  {
   "cell_type": "code",
   "execution_count": 41,
   "id": "b40497ec",
   "metadata": {},
   "outputs": [
    {
     "ename": "TypeError",
     "evalue": "unhashable type: 'slice'",
     "output_type": "error",
     "traceback": [
      "\u001b[1;31m---------------------------------------------------------------------------\u001b[0m",
      "\u001b[1;31mTypeError\u001b[0m                                 Traceback (most recent call last)",
      "Cell \u001b[1;32mIn[41], line 1\u001b[0m\n\u001b[1;32m----> 1\u001b[0m \u001b[43mdictSample\u001b[49m\u001b[43m[\u001b[49m\u001b[38;5;241;43m1\u001b[39;49m\u001b[43m:\u001b[49m\u001b[38;5;124;43m'\u001b[39;49m\u001b[38;5;124;43msecond\u001b[39;49m\u001b[38;5;124;43m'\u001b[39;49m\u001b[43m]\u001b[49m\n",
      "\u001b[1;31mTypeError\u001b[0m: unhashable type: 'slice'"
     ]
    }
   ],
   "source": [
    "dictSample[1:'second']"
   ]
  },
  {
   "cell_type": "code",
   "execution_count": 43,
   "id": "328c52af",
   "metadata": {},
   "outputs": [
    {
     "ename": "TypeError",
     "evalue": "'set' object is not subscriptable",
     "output_type": "error",
     "traceback": [
      "\u001b[1;31m---------------------------------------------------------------------------\u001b[0m",
      "\u001b[1;31mTypeError\u001b[0m                                 Traceback (most recent call last)",
      "Cell \u001b[1;32mIn[43], line 1\u001b[0m\n\u001b[1;32m----> 1\u001b[0m \u001b[43msetSample\u001b[49m\u001b[43m[\u001b[49m\u001b[38;5;241;43m1\u001b[39;49m\u001b[43m:\u001b[49m\u001b[38;5;241;43m2\u001b[39;49m\u001b[43m]\u001b[49m\n",
      "\u001b[1;31mTypeError\u001b[0m: 'set' object is not subscriptable"
     ]
    }
   ],
   "source": [
    "setSample[1:2]"
   ]
  },
  {
   "cell_type": "code",
   "execution_count": 44,
   "id": "4a5f6798",
   "metadata": {},
   "outputs": [
    {
     "name": "stdout",
     "output_type": "stream",
     "text": [
      "1\n",
      "2\n",
      "3\n",
      "4\n"
     ]
    }
   ],
   "source": [
    "for x in arrSample: print(x)"
   ]
  },
  {
   "cell_type": "code",
   "execution_count": 45,
   "id": "374e6a74",
   "metadata": {},
   "outputs": [
    {
     "data": {
      "text/plain": [
       "array('i', [2, 3, 4])"
      ]
     },
     "execution_count": 45,
     "metadata": {},
     "output_type": "execute_result"
    }
   ],
   "source": [
    "arrSample[1:]"
   ]
  },
  {
   "cell_type": "code",
   "execution_count": 46,
   "id": "d52df48a",
   "metadata": {},
   "outputs": [
    {
     "data": {
      "text/plain": [
       "array('i', [2, 3])"
      ]
     },
     "execution_count": 46,
     "metadata": {},
     "output_type": "execute_result"
    }
   ],
   "source": [
    "arrSample[1:-1]"
   ]
  },
  {
   "cell_type": "code",
   "execution_count": 47,
   "id": "216e8b72",
   "metadata": {},
   "outputs": [
    {
     "name": "stdout",
     "output_type": "stream",
     "text": [
      "1\n",
      "5\n",
      "9\n"
     ]
    }
   ],
   "source": [
    "for x in rangeSample:print(x)"
   ]
  },
  {
   "cell_type": "code",
   "execution_count": 48,
   "id": "65bcaa9a",
   "metadata": {},
   "outputs": [
    {
     "name": "stdout",
     "output_type": "stream",
     "text": [
      "range(1, 9, 4)\n"
     ]
    }
   ],
   "source": [
    "print(rangeSample[:-1])"
   ]
  },
  {
   "cell_type": "markdown",
   "id": "986e2f50",
   "metadata": {},
   "source": [
    "# Sequence data operations: Concatenation"
   ]
  },
  {
   "cell_type": "markdown",
   "id": "8b910856",
   "metadata": {},
   "source": [
    "# Syntax: ',','+','+='"
   ]
  },
  {
   "cell_type": "code",
   "execution_count": 49,
   "id": "ce67165a",
   "metadata": {},
   "outputs": [
    {
     "name": "stdout",
     "output_type": "stream",
     "text": [
      "learning  python\n"
     ]
    }
   ],
   "source": [
    "print(strSample+' ','python')"
   ]
  },
  {
   "cell_type": "code",
   "execution_count": 50,
   "id": "b5b9e068",
   "metadata": {},
   "outputs": [
    {
     "name": "stdout",
     "output_type": "stream",
     "text": [
      "learning\n"
     ]
    }
   ],
   "source": [
    "print(strSample)"
   ]
  },
  {
   "cell_type": "code",
   "execution_count": 51,
   "id": "2340fa64",
   "metadata": {},
   "outputs": [],
   "source": [
    "newString = strSample+' ','python'"
   ]
  },
  {
   "cell_type": "code",
   "execution_count": 53,
   "id": "ad0096e7",
   "metadata": {},
   "outputs": [
    {
     "name": "stdout",
     "output_type": "stream",
     "text": [
      "('learning ', 'python')\n"
     ]
    }
   ],
   "source": [
    "print(newString)"
   ]
  },
  {
   "cell_type": "code",
   "execution_count": 54,
   "id": "c82fd607",
   "metadata": {},
   "outputs": [
    {
     "name": "stdout",
     "output_type": "stream",
     "text": [
      "[1, 2, 'a', 'sam', 2]\n"
     ]
    }
   ],
   "source": [
    "print(lstSample)"
   ]
  },
  {
   "cell_type": "code",
   "execution_count": 55,
   "id": "b2f2ac6b",
   "metadata": {},
   "outputs": [
    {
     "data": {
      "text/plain": [
       "[1, 2, 'a', 'sam', 2, 'py']"
      ]
     },
     "execution_count": 55,
     "metadata": {},
     "output_type": "execute_result"
    }
   ],
   "source": [
    "lstSample + ['py']"
   ]
  },
  {
   "cell_type": "code",
   "execution_count": 56,
   "id": "b1116a3e",
   "metadata": {},
   "outputs": [
    {
     "data": {
      "text/plain": [
       "[1, 2, 'a', 'sam', 2]"
      ]
     },
     "execution_count": 56,
     "metadata": {},
     "output_type": "execute_result"
    }
   ],
   "source": [
    "lstSample"
   ]
  },
  {
   "cell_type": "code",
   "execution_count": 57,
   "id": "3a0d5950",
   "metadata": {},
   "outputs": [
    {
     "name": "stdout",
     "output_type": "stream",
     "text": [
      "array('i', [1, 2, 3, 4])\n"
     ]
    }
   ],
   "source": [
    "print(arrSample)"
   ]
  },
  {
   "cell_type": "code",
   "execution_count": 59,
   "id": "21762d73",
   "metadata": {},
   "outputs": [
    {
     "ename": "TypeError",
     "evalue": "can only append array (not \"list\") to array",
     "output_type": "error",
     "traceback": [
      "\u001b[1;31m---------------------------------------------------------------------------\u001b[0m",
      "\u001b[1;31mTypeError\u001b[0m                                 Traceback (most recent call last)",
      "Cell \u001b[1;32mIn[59], line 1\u001b[0m\n\u001b[1;32m----> 1\u001b[0m \u001b[43marrSample\u001b[49m\u001b[43m \u001b[49m\u001b[38;5;241;43m+\u001b[39;49m\u001b[43m \u001b[49m\u001b[43m[\u001b[49m\u001b[38;5;241;43m50\u001b[39;49m\u001b[43m,\u001b[49m\u001b[38;5;241;43m60\u001b[39;49m\u001b[43m]\u001b[49m\n",
      "\u001b[1;31mTypeError\u001b[0m: can only append array (not \"list\") to array"
     ]
    }
   ],
   "source": [
    "arrSample + [50,60]"
   ]
  },
  {
   "cell_type": "code",
   "execution_count": 60,
   "id": "8bd4afec",
   "metadata": {},
   "outputs": [
    {
     "data": {
      "text/plain": [
       "array('i', [1, 2, 3, 4, 50, 60])"
      ]
     },
     "execution_count": 60,
     "metadata": {},
     "output_type": "execute_result"
    }
   ],
   "source": [
    "arrSample + array('i',[50,60])"
   ]
  },
  {
   "cell_type": "code",
   "execution_count": 61,
   "id": "d10d978a",
   "metadata": {},
   "outputs": [
    {
     "data": {
      "text/plain": [
       "(1, 2, 3, 4, 3, 'py')"
      ]
     },
     "execution_count": 61,
     "metadata": {},
     "output_type": "execute_result"
    }
   ],
   "source": [
    "tupSample"
   ]
  },
  {
   "cell_type": "code",
   "execution_count": 62,
   "id": "19e8424b",
   "metadata": {},
   "outputs": [],
   "source": [
    "tupSample+=('th','on')"
   ]
  },
  {
   "cell_type": "code",
   "execution_count": 63,
   "id": "6a51d75e",
   "metadata": {},
   "outputs": [
    {
     "data": {
      "text/plain": [
       "(1, 2, 3, 4, 3, 'py', 'th', 'on')"
      ]
     },
     "execution_count": 63,
     "metadata": {},
     "output_type": "execute_result"
    }
   ],
   "source": [
    "tupSample"
   ]
  },
  {
   "cell_type": "code",
   "execution_count": 64,
   "id": "b8711e20",
   "metadata": {},
   "outputs": [
    {
     "name": "stdout",
     "output_type": "stream",
     "text": [
      "{24, 'example', 'data', 87.5}\n"
     ]
    }
   ],
   "source": [
    "print(setSample)"
   ]
  },
  {
   "cell_type": "code",
   "execution_count": 65,
   "id": "338ae9f2",
   "metadata": {},
   "outputs": [],
   "source": [
    "setSample = setSample,24"
   ]
  },
  {
   "cell_type": "code",
   "execution_count": 66,
   "id": "0e2bfa18",
   "metadata": {},
   "outputs": [
    {
     "name": "stdout",
     "output_type": "stream",
     "text": [
      "({24, 'example', 'data', 87.5}, 24)\n"
     ]
    }
   ],
   "source": [
    "print(setSample)"
   ]
  },
  {
   "cell_type": "markdown",
   "id": "fb1da4d2",
   "metadata": {},
   "source": [
    "# Sequence data operation: Multiplication"
   ]
  },
  {
   "cell_type": "markdown",
   "id": "6e9ea9e7",
   "metadata": {},
   "source": [
    "# Syntax: object*integer"
   ]
  },
  {
   "cell_type": "code",
   "execution_count": 67,
   "id": "1ae0122d",
   "metadata": {},
   "outputs": [
    {
     "name": "stdout",
     "output_type": "stream",
     "text": [
      "learninglearninglearning\n"
     ]
    }
   ],
   "source": [
    "strSample*=3\n",
    "print(strSample)"
   ]
  },
  {
   "cell_type": "code",
   "execution_count": 68,
   "id": "5db16a0b",
   "metadata": {},
   "outputs": [
    {
     "data": {
      "text/plain": [
       "[1, 2, 'a', 'sam', 2, 1, 2, 'a', 'sam', 2]"
      ]
     },
     "execution_count": 68,
     "metadata": {},
     "output_type": "execute_result"
    }
   ],
   "source": [
    "lstSample*2"
   ]
  },
  {
   "cell_type": "code",
   "execution_count": 69,
   "id": "83c02507",
   "metadata": {},
   "outputs": [
    {
     "data": {
      "text/plain": [
       "4"
      ]
     },
     "execution_count": 69,
     "metadata": {},
     "output_type": "execute_result"
    }
   ],
   "source": [
    "lstSample[1]*2"
   ]
  },
  {
   "cell_type": "code",
   "execution_count": 70,
   "id": "8d3e7670",
   "metadata": {},
   "outputs": [
    {
     "name": "stdout",
     "output_type": "stream",
     "text": [
      "[1, 4, 'a', 'sam', 2]\n"
     ]
    }
   ],
   "source": [
    "lstSample[1]*=2\n",
    "print(lstSample)"
   ]
  },
  {
   "cell_type": "code",
   "execution_count": 72,
   "id": "0a8ad6dd",
   "metadata": {},
   "outputs": [
    {
     "name": "stdout",
     "output_type": "stream",
     "text": [
      "(1, 2, 3, 4, 3, 'py', 'th', 'on')\n"
     ]
    }
   ],
   "source": [
    "print(tupSample)"
   ]
  },
  {
   "cell_type": "code",
   "execution_count": 71,
   "id": "9ff4037b",
   "metadata": {},
   "outputs": [
    {
     "data": {
      "text/plain": [
       "(3, 4, 3, 4)"
      ]
     },
     "execution_count": 71,
     "metadata": {},
     "output_type": "execute_result"
    }
   ],
   "source": [
    "tupSample[2:4]*2"
   ]
  },
  {
   "cell_type": "code",
   "execution_count": 73,
   "id": "efeac7d5",
   "metadata": {},
   "outputs": [
    {
     "data": {
      "text/plain": [
       "array('i', [1, 2, 3, 4, 1, 2, 3, 4])"
      ]
     },
     "execution_count": 73,
     "metadata": {},
     "output_type": "execute_result"
    }
   ],
   "source": [
    "arrSample*2"
   ]
  },
  {
   "cell_type": "code",
   "execution_count": 74,
   "id": "6eae7afe",
   "metadata": {},
   "outputs": [
    {
     "ename": "TypeError",
     "evalue": "unsupported operand type(s) for *: 'range' and 'int'",
     "output_type": "error",
     "traceback": [
      "\u001b[1;31m---------------------------------------------------------------------------\u001b[0m",
      "\u001b[1;31mTypeError\u001b[0m                                 Traceback (most recent call last)",
      "Cell \u001b[1;32mIn[74], line 1\u001b[0m\n\u001b[1;32m----> 1\u001b[0m \u001b[43mrangeSample\u001b[49m\u001b[38;5;241;43m*\u001b[39;49m\u001b[38;5;241;43m2\u001b[39;49m\n",
      "\u001b[1;31mTypeError\u001b[0m: unsupported operand type(s) for *: 'range' and 'int'"
     ]
    }
   ],
   "source": [
    "rangeSample*2"
   ]
  },
  {
   "cell_type": "code",
   "execution_count": null,
   "id": "b8f5b616",
   "metadata": {},
   "outputs": [],
   "source": []
  }
 ],
 "metadata": {
  "kernelspec": {
   "display_name": "Python 3 (ipykernel)",
   "language": "python",
   "name": "python3"
  },
  "language_info": {
   "codemirror_mode": {
    "name": "ipython",
    "version": 3
   },
   "file_extension": ".py",
   "mimetype": "text/x-python",
   "name": "python",
   "nbconvert_exporter": "python",
   "pygments_lexer": "ipython3",
   "version": "3.8.0"
  }
 },
 "nbformat": 4,
 "nbformat_minor": 5
}
