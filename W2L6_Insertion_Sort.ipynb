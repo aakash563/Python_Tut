{
 "cells": [
  {
   "cell_type": "code",
   "execution_count": 1,
   "id": "cec0f898",
   "metadata": {},
   "outputs": [],
   "source": [
    "def InsertionSort(L):\n",
    "    n = len(L)\n",
    "    if n<1:\n",
    "        return(L)\n",
    "    \n",
    "    for i in range(n):\n",
    "        # Assume L[:i] is sorted\n",
    "        # Move L[i] to correct position in L\n",
    "        j = i\n",
    "        while(j>0 and L[j]<L[j-1]):\n",
    "            (L[j],L[j-1]) = (L[j-1],L[j])\n",
    "            j = j-1\n",
    "            # Now L[:i+1] is sorted\n",
    "        return(L)"
   ]
  },
  {
   "cell_type": "code",
   "execution_count": 2,
   "id": "55ac4301",
   "metadata": {},
   "outputs": [],
   "source": [
    "L = [23,56,12,22,76,45]"
   ]
  },
  {
   "cell_type": "code",
   "execution_count": 3,
   "id": "11d44fe3",
   "metadata": {},
   "outputs": [
    {
     "data": {
      "text/plain": [
       "[23, 56, 12, 22, 76, 45]"
      ]
     },
     "execution_count": 3,
     "metadata": {},
     "output_type": "execute_result"
    }
   ],
   "source": [
    "InsertionSort(L)"
   ]
  },
  {
   "cell_type": "markdown",
   "id": "e09b1af6",
   "metadata": {},
   "source": [
    "# Insert"
   ]
  },
  {
   "cell_type": "code",
   "execution_count": 4,
   "id": "6cf52f20",
   "metadata": {},
   "outputs": [],
   "source": [
    "def Insert(L,v):\n",
    "    n = len(L)\n",
    "    if m==0:\n",
    "        return([v])\n",
    "    if v>=L[-1]:\n",
    "        return(L+[v])\n",
    "    else:\n",
    "        return(Insert(L[:-1],v)+L[-1:])"
   ]
  },
  {
   "cell_type": "code",
   "execution_count": 5,
   "id": "49c86d4d",
   "metadata": {},
   "outputs": [],
   "source": [
    "def ISort(L):\n",
    "    n = len(L)\n",
    "    if n<1:\n",
    "        return(L)\n",
    "    L = Insert(ISort(L[:-1],L[-1]))\n",
    "    return(L)"
   ]
  },
  {
   "cell_type": "code",
   "execution_count": null,
   "id": "dc2f0173",
   "metadata": {},
   "outputs": [],
   "source": []
  }
 ],
 "metadata": {
  "kernelspec": {
   "display_name": "Python 3 (ipykernel)",
   "language": "python",
   "name": "python3"
  },
  "language_info": {
   "codemirror_mode": {
    "name": "ipython",
    "version": 3
   },
   "file_extension": ".py",
   "mimetype": "text/x-python",
   "name": "python",
   "nbconvert_exporter": "python",
   "pygments_lexer": "ipython3",
   "version": "3.8.0"
  }
 },
 "nbformat": 4,
 "nbformat_minor": 5
}
