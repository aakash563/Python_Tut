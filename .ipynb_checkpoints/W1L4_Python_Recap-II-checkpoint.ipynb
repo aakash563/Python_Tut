{
 "cells": [
  {
   "cell_type": "code",
   "execution_count": null,
   "id": "94e4af0d",
   "metadata": {},
   "outputs": [],
   "source": [
    "def factors(n):\n",
    "    f1 = [] # factor list\n",
    "    for i in range(1,n+1):\n",
    "        if (n%i)==0:\n",
    "            f1.append(i)\n",
    "    return(f1)"
   ]
  },
  {
   "cell_type": "code",
   "execution_count": null,
   "id": "d73b6ba5",
   "metadata": {},
   "outputs": [],
   "source": [
    "def prime(n):\n",
    "    return(factors(n)==[1,n])"
   ]
  },
  {
   "cell_type": "code",
   "execution_count": null,
   "id": "f9862dd3",
   "metadata": {},
   "outputs": [],
   "source": [
    "prime(1)"
   ]
  },
  {
   "cell_type": "code",
   "execution_count": null,
   "id": "cd324e46",
   "metadata": {},
   "outputs": [],
   "source": [
    "def primesupto(m):\n",
    "    pl = [] # prime list\n",
    "    for i in range(1,m+1):\n",
    "        if prime(i):\n",
    "            pl.append(i)\n",
    "    return(pl)"
   ]
  },
  {
   "cell_type": "code",
   "execution_count": null,
   "id": "c2d9c3b4",
   "metadata": {},
   "outputs": [],
   "source": [
    "primesupto(100)"
   ]
  },
  {
   "cell_type": "code",
   "execution_count": null,
   "id": "571e03f7",
   "metadata": {},
   "outputs": [],
   "source": [
    "def firstprimes(m):\n",
    "    (count,i,pl) = (0,1,[])\n",
    "    while (count<m):\n",
    "        if prime(i):\n",
    "            (count,pl) =(count+1,pl+[i])\n",
    "        i+= 1\n",
    "    return(pl)"
   ]
  },
  {
   "cell_type": "code",
   "execution_count": null,
   "id": "713ac27a",
   "metadata": {},
   "outputs": [],
   "source": [
    "firstprimes(100)"
   ]
  },
  {
   "cell_type": "code",
   "execution_count": null,
   "id": "3ae560e4",
   "metadata": {},
   "outputs": [],
   "source": [
    "def prime1(n):\n",
    "    result = True\n",
    "    for i in range(2,n):\n",
    "        if (n%i)==0:\n",
    "            result = False\n",
    "    return result"
   ]
  },
  {
   "cell_type": "code",
   "execution_count": null,
   "id": "52368877",
   "metadata": {},
   "outputs": [],
   "source": [
    "prime1(5)"
   ]
  },
  {
   "cell_type": "code",
   "execution_count": null,
   "id": "108ee54a",
   "metadata": {},
   "outputs": [],
   "source": [
    "prime1(9)"
   ]
  },
  {
   "cell_type": "code",
   "execution_count": null,
   "id": "9858594b",
   "metadata": {},
   "outputs": [],
   "source": [
    "def prime2(n):\n",
    "    result = True\n",
    "    for i in range(2,n):\n",
    "        if (n%i) == 0:\n",
    "            result = False\n",
    "            break # Abort loop\n",
    "    return(result)"
   ]
  },
  {
   "cell_type": "code",
   "execution_count": null,
   "id": "a61102e4",
   "metadata": {},
   "outputs": [],
   "source": [
    "prime2(9)\n"
   ]
  },
  {
   "cell_type": "code",
   "execution_count": null,
   "id": "12a66669",
   "metadata": {},
   "outputs": [],
   "source": [
    "prime2(7)"
   ]
  },
  {
   "cell_type": "code",
   "execution_count": 1,
   "id": "74d18064",
   "metadata": {},
   "outputs": [],
   "source": [
    "def prime3(n):\n",
    "    (result,i) = (True,2)\n",
    "    while(result and (i<n)):\n",
    "        if (n%i)==0:\n",
    "            result = False\n",
    "        i+=1\n",
    "    return(result)"
   ]
  },
  {
   "cell_type": "code",
   "execution_count": 2,
   "id": "5deb7106",
   "metadata": {},
   "outputs": [
    {
     "data": {
      "text/plain": [
       "True"
      ]
     },
     "execution_count": 2,
     "metadata": {},
     "output_type": "execute_result"
    }
   ],
   "source": [
    "prime3(7)"
   ]
  },
  {
   "cell_type": "code",
   "execution_count": 3,
   "id": "21c89a27",
   "metadata": {},
   "outputs": [],
   "source": [
    "import math"
   ]
  },
  {
   "cell_type": "code",
   "execution_count": 4,
   "id": "80554825",
   "metadata": {},
   "outputs": [],
   "source": [
    "def prime4(n):\n",
    "    (result,i) = (True,2)\n",
    "    while (result and (i<math.sqrt(n))):\n",
    "        if(n%i)==0:\n",
    "            result= False\n",
    "        i+=1\n",
    "    return(result)"
   ]
  },
  {
   "cell_type": "code",
   "execution_count": 5,
   "id": "53250aa8",
   "metadata": {},
   "outputs": [
    {
     "data": {
      "text/plain": [
       "True"
      ]
     },
     "execution_count": 5,
     "metadata": {},
     "output_type": "execute_result"
    }
   ],
   "source": [
    "prime4(5)"
   ]
  },
  {
   "cell_type": "code",
   "execution_count": 6,
   "id": "8f574184",
   "metadata": {},
   "outputs": [],
   "source": [
    "def primediffs(n):\n",
    "    lastprime = 2\n",
    "    pd = {} # Dictionary for prime difference\n",
    "    for i in range(3,n+1):\n",
    "        if prime(i):\n",
    "            d = i - lastprime\n",
    "            lastprime = i\n",
    "            if d in pd.keys():\n",
    "                pd[d] = pd[d] + 1\n",
    "            else:\n",
    "                pd[d] = 1\n",
    "    return(pd)"
   ]
  },
  {
   "cell_type": "code",
   "execution_count": null,
   "id": "1d781ae8",
   "metadata": {},
   "outputs": [],
   "source": []
  }
 ],
 "metadata": {
  "kernelspec": {
   "display_name": "Python 3 (ipykernel)",
   "language": "python",
   "name": "python3"
  },
  "language_info": {
   "codemirror_mode": {
    "name": "ipython",
    "version": 3
   },
   "file_extension": ".py",
   "mimetype": "text/x-python",
   "name": "python",
   "nbconvert_exporter": "python",
   "pygments_lexer": "ipython3",
   "version": "3.8.0"
  }
 },
 "nbformat": 4,
 "nbformat_minor": 5
}
