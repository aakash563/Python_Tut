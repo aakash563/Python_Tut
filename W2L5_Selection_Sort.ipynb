{
 "cells": [
  {
   "cell_type": "code",
   "execution_count": 2,
   "id": "01597004",
   "metadata": {},
   "outputs": [],
   "source": [
    "def SelectionSort(L):\n",
    "    n = len(L)\n",
    "    if n<1:\n",
    "        return(L)\n",
    "    for i in range(n):\n",
    "        # Assume L[:i] is sorted\n",
    "        mpos = i\n",
    "        # mpos: position of minimum in L[i:]\n",
    "        for j in range(i+1,n):\n",
    "            if L[j]<L[mpos]:\n",
    "                mpos = j\n",
    "        # L[mpos]: smallest values in L[i:]\n",
    "        # Exchaange L[mpos]   and L[i]\n",
    "        (L[i],L[mpos]) = (L[mpos],L[i])\n",
    "        # Now L[:i+1] is sorted\n",
    "    return L"
   ]
  },
  {
   "cell_type": "code",
   "execution_count": 3,
   "id": "6683c2b8",
   "metadata": {},
   "outputs": [],
   "source": [
    "L = [45,23,12,67,22]"
   ]
  },
  {
   "cell_type": "code",
   "execution_count": 4,
   "id": "98060a18",
   "metadata": {},
   "outputs": [
    {
     "data": {
      "text/plain": [
       "[12, 22, 23, 45, 67]"
      ]
     },
     "execution_count": 4,
     "metadata": {},
     "output_type": "execute_result"
    }
   ],
   "source": [
    "SelectionSort(L)"
   ]
  },
  {
   "cell_type": "code",
   "execution_count": null,
   "id": "b2f76fed",
   "metadata": {},
   "outputs": [],
   "source": []
  }
 ],
 "metadata": {
  "kernelspec": {
   "display_name": "Python 3 (ipykernel)",
   "language": "python",
   "name": "python3"
  },
  "language_info": {
   "codemirror_mode": {
    "name": "ipython",
    "version": 3
   },
   "file_extension": ".py",
   "mimetype": "text/x-python",
   "name": "python",
   "nbconvert_exporter": "python",
   "pygments_lexer": "ipython3",
   "version": "3.8.0"
  }
 },
 "nbformat": 4,
 "nbformat_minor": 5
}
