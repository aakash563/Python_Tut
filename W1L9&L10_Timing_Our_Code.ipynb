{
 "cells": [
  {
   "cell_type": "markdown",
   "id": "26f114b2",
   "metadata": {},
   "source": [
    "Timing Code"
   ]
  },
  {
   "cell_type": "code",
   "execution_count": 1,
   "id": "ae47d488",
   "metadata": {},
   "outputs": [],
   "source": [
    "# A Timer class\n",
    "import time\n",
    "class TimerError(Exception):\n",
    "    \"\"\"A custom exception used to report error in use Timer class\"\"\"\n",
    "\n",
    "class Timer:\n",
    "    def __init__(self):\n",
    "        self._start_time = None\n",
    "        self._elapsed_time = None\n",
    "    \n",
    "    def start(self):\n",
    "        \"\"\"Start a new timer\"\"\"\n",
    "        if self._start_time is not None:\n",
    "            raise TimerError(\"Timer is running. Use .stop()\")\n",
    "        self._start_time = time.perf_counter()\n",
    "        \n",
    "    def stop(self):\n",
    "        \"\"\"Save the elapsed time and re-initialize timer\"\"\"\n",
    "        if self._start_time is None:\n",
    "            raise TimerError(\"Timer is not running. Use .start()\")\n",
    "        self._elapsed_time = time.perf_counter() - self._start_time\n",
    "        self._start_time = None\n",
    "    def elapsed(self):\n",
    "        \"\"\"Report elapsed time\"\"\"\n",
    "        if self._elapsed_time is None:\n",
    "            raise TimerError(\"Timer has not been run yet. Use .start()\")\n",
    "        return(self._elapsed_time)\n",
    "    def __str__(self):\n",
    "        \"\"\"print() prints elapsed time\"\"\"\n",
    "        return(str(self._elapsed_time))"
   ]
  },
  {
   "cell_type": "code",
   "execution_count": 2,
   "id": "0f99c876",
   "metadata": {},
   "outputs": [
    {
     "name": "stdout",
     "output_type": "stream",
     "text": [
      "4 0.002932899999905203\n",
      "5 0.02626589999999851\n",
      "6 0.29642359999979817\n",
      "7 2.9590149000000565\n",
      "8 28.534696300000178\n"
     ]
    }
   ],
   "source": [
    "t = Timer()\n",
    "for j in range(4,9):\n",
    "    t.start()\n",
    "    n = 0\n",
    "    for i in range(10**j):\n",
    "        n = n+1\n",
    "    t.stop()\n",
    "    print(j,t)"
   ]
  },
  {
   "cell_type": "code",
   "execution_count": null,
   "id": "c924dd03",
   "metadata": {},
   "outputs": [],
   "source": []
  }
 ],
 "metadata": {
  "kernelspec": {
   "display_name": "Python 3 (ipykernel)",
   "language": "python",
   "name": "python3"
  },
  "language_info": {
   "codemirror_mode": {
    "name": "ipython",
    "version": 3
   },
   "file_extension": ".py",
   "mimetype": "text/x-python",
   "name": "python",
   "nbconvert_exporter": "python",
   "pygments_lexer": "ipython3",
   "version": "3.8.0"
  }
 },
 "nbformat": 4,
 "nbformat_minor": 5
}
