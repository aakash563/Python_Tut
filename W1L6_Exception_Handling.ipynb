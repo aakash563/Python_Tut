{
 "cells": [
  {
   "cell_type": "code",
   "execution_count": 1,
   "id": "b85426b8",
   "metadata": {},
   "outputs": [],
   "source": [
    "score = {\"Shefali\":[3,22],\n",
    "        \"Harmanpreet\":[200,3]}"
   ]
  },
  {
   "cell_type": "code",
   "execution_count": 5,
   "id": "c0efbe15",
   "metadata": {},
   "outputs": [],
   "source": [
    "b = \"aakash\""
   ]
  },
  {
   "cell_type": "code",
   "execution_count": 6,
   "id": "41f00f16",
   "metadata": {},
   "outputs": [],
   "source": [
    "if b in score.keys():\n",
    "    score[b].append(22)\n",
    "else:\n",
    "    score[b] = [22]"
   ]
  },
  {
   "cell_type": "code",
   "execution_count": 7,
   "id": "0eb8735b",
   "metadata": {},
   "outputs": [
    {
     "data": {
      "text/plain": [
       "{'Shefali': [3, 22], 'Harmanpreet': [200, 3], 'aakash': [22]}"
      ]
     },
     "execution_count": 7,
     "metadata": {},
     "output_type": "execute_result"
    }
   ],
   "source": [
    "score"
   ]
  },
  {
   "cell_type": "markdown",
   "id": "89372d37",
   "metadata": {},
   "source": [
    "using exception"
   ]
  },
  {
   "cell_type": "code",
   "execution_count": 8,
   "id": "d11cb502",
   "metadata": {},
   "outputs": [],
   "source": [
    "try:\n",
    "    score[b].append(33)\n",
    "except KeyError:\n",
    "    score[b] = [33]"
   ]
  },
  {
   "cell_type": "code",
   "execution_count": 9,
   "id": "794993cb",
   "metadata": {},
   "outputs": [
    {
     "data": {
      "text/plain": [
       "{'Shefali': [3, 22], 'Harmanpreet': [200, 3], 'aakash': [22, 33]}"
      ]
     },
     "execution_count": 9,
     "metadata": {},
     "output_type": "execute_result"
    }
   ],
   "source": [
    "score"
   ]
  },
  {
   "cell_type": "code",
   "execution_count": null,
   "id": "5e7a3a45",
   "metadata": {},
   "outputs": [],
   "source": []
  }
 ],
 "metadata": {
  "kernelspec": {
   "display_name": "Python 3 (ipykernel)",
   "language": "python",
   "name": "python3"
  },
  "language_info": {
   "codemirror_mode": {
    "name": "ipython",
    "version": 3
   },
   "file_extension": ".py",
   "mimetype": "text/x-python",
   "name": "python",
   "nbconvert_exporter": "python",
   "pygments_lexer": "ipython3",
   "version": "3.8.0"
  }
 },
 "nbformat": 4,
 "nbformat_minor": 5
}
