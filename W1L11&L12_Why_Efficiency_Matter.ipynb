{
 "cells": [
  {
   "cell_type": "markdown",
   "id": "f6115865",
   "metadata": {},
   "source": [
    "PDSA With Python, Week 1- Python Recap"
   ]
  },
  {
   "cell_type": "code",
   "execution_count": 1,
   "id": "0899d61f",
   "metadata": {},
   "outputs": [],
   "source": [
    "def gcd(m,n):\n",
    "    cf = [] # List of common factors\n",
    "    for i in range(1,min(m,n)+1):\n",
    "        if (m%i)==0 and (n%i)==0:\n",
    "            cf.append(i)\n",
    "    return(cf[-1])"
   ]
  },
  {
   "cell_type": "code",
   "execution_count": 7,
   "id": "4cc882c5",
   "metadata": {},
   "outputs": [
    {
     "data": {
      "text/plain": [
       "9"
      ]
     },
     "execution_count": 7,
     "metadata": {},
     "output_type": "execute_result"
    }
   ],
   "source": [
    "gcd(56781234,87654321)"
   ]
  },
  {
   "cell_type": "markdown",
   "id": "6eff38a0",
   "metadata": {},
   "source": [
    "Recursive gcd using m-n"
   ]
  },
  {
   "cell_type": "code",
   "execution_count": 6,
   "id": "7ef2a581",
   "metadata": {},
   "outputs": [],
   "source": [
    "def gcd(m,n):\n",
    "    (a,b) = (max(m,n),min(m,n))\n",
    "    if a%b == 0:\n",
    "        return(b)\n",
    "    else:\n",
    "        return(gcd(b,a-b))"
   ]
  },
  {
   "cell_type": "code",
   "execution_count": 10,
   "id": "093e4c72",
   "metadata": {},
   "outputs": [
    {
     "data": {
      "text/plain": [
       "1"
      ]
     },
     "execution_count": 10,
     "metadata": {},
     "output_type": "execute_result"
    }
   ],
   "source": [
    "gcd(2,99999999)"
   ]
  },
  {
   "cell_type": "markdown",
   "id": "7c06e15f",
   "metadata": {},
   "source": [
    "gcd using Euclid's algorithms"
   ]
  },
  {
   "cell_type": "code",
   "execution_count": 9,
   "id": "fdc1a6c9",
   "metadata": {},
   "outputs": [],
   "source": [
    "def gcd(m,n):\n",
    "    (a,b) = (max(m,n),min(m,n))\n",
    "    if a%b == 0:\n",
    "        return(b)\n",
    "    else:\n",
    "        return(gcd(b,a%b))"
   ]
  },
  {
   "cell_type": "code",
   "execution_count": null,
   "id": "7096ba0c",
   "metadata": {},
   "outputs": [],
   "source": []
  }
 ],
 "metadata": {
  "kernelspec": {
   "display_name": "Python 3 (ipykernel)",
   "language": "python",
   "name": "python3"
  },
  "language_info": {
   "codemirror_mode": {
    "name": "ipython",
    "version": 3
   },
   "file_extension": ".py",
   "mimetype": "text/x-python",
   "name": "python",
   "nbconvert_exporter": "python",
   "pygments_lexer": "ipython3",
   "version": "3.8.0"
  }
 },
 "nbformat": 4,
 "nbformat_minor": 5
}
