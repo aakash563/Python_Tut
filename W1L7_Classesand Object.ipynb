{
 "cells": [
  {
   "cell_type": "code",
   "execution_count": 2,
   "id": "2f022e94",
   "metadata": {},
   "outputs": [],
   "source": [
    "class Point:\n",
    "    def __init__(self,a = 0,b=0):\n",
    "        self.x = a\n",
    "        self.y = b\n",
    "    def translate(self, deltax, deltay):\n",
    "        self.x += deltax\n",
    "        seff.y += deltay\n",
    "    def odistance(self):\n",
    "        import math\n",
    "        d = math.sqrt(self.x*self.x + self.y*self.y)\n",
    "        return(d)"
   ]
  },
  {
   "cell_type": "code",
   "execution_count": 4,
   "id": "f9030b78",
   "metadata": {},
   "outputs": [],
   "source": [
    "import math\n",
    "class Point:\n",
    "    def __init__(self,a = 0,b = 0):\n",
    "        self.r = math.sqrt(a*a+b*b)\n",
    "        if a == 0:\n",
    "            self.theta = math.pi/2\n",
    "        else:\n",
    "            self.theta = math.atan(b/a)\n",
    "    \n",
    "    def odistance(self):\n",
    "        return(self.r)"
   ]
  },
  {
   "cell_type": "code",
   "execution_count": null,
   "id": "5c60cabd",
   "metadata": {},
   "outputs": [],
   "source": [
    "def "
   ]
  }
 ],
 "metadata": {
  "kernelspec": {
   "display_name": "Python 3 (ipykernel)",
   "language": "python",
   "name": "python3"
  },
  "language_info": {
   "codemirror_mode": {
    "name": "ipython",
    "version": 3
   },
   "file_extension": ".py",
   "mimetype": "text/x-python",
   "name": "python",
   "nbconvert_exporter": "python",
   "pygments_lexer": "ipython3",
   "version": "3.8.0"
  }
 },
 "nbformat": 4,
 "nbformat_minor": 5
}
