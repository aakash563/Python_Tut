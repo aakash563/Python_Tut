{
 "cells": [
  {
   "cell_type": "code",
   "execution_count": 1,
   "id": "1100062d",
   "metadata": {},
   "outputs": [],
   "source": [
    "def gcd(m,n):\n",
    "    (a,b) = (max(m,n), min(m,n))\n",
    "    if a%b == 0:\n",
    "        return(b)\n",
    "    else:\n",
    "        return(gcd(b,a-b))"
   ]
  },
  {
   "cell_type": "code",
   "execution_count": 2,
   "id": "72b96b1c",
   "metadata": {},
   "outputs": [
    {
     "data": {
      "text/plain": [
       "1"
      ]
     },
     "execution_count": 2,
     "metadata": {},
     "output_type": "execute_result"
    }
   ],
   "source": [
    "gcd(97,2)"
   ]
  },
  {
   "cell_type": "code",
   "execution_count": 3,
   "id": "cc5925d1",
   "metadata": {},
   "outputs": [],
   "source": [
    "def gcd1(m,n):\n",
    "    (a,b) = (max(m,n),min(m,n))\n",
    "    if a%b == 0:\n",
    "        return(b)\n",
    "    else:\n",
    "        return(gcd1(b,a%b))"
   ]
  },
  {
   "cell_type": "code",
   "execution_count": 4,
   "id": "4d9a22ca",
   "metadata": {},
   "outputs": [
    {
     "data": {
      "text/plain": [
       "5"
      ]
     },
     "execution_count": 4,
     "metadata": {},
     "output_type": "execute_result"
    }
   ],
   "source": [
    "gcd1(45,5)"
   ]
  },
  {
   "cell_type": "code",
   "execution_count": null,
   "id": "35deaf42",
   "metadata": {},
   "outputs": [],
   "source": []
  }
 ],
 "metadata": {
  "kernelspec": {
   "display_name": "Python 3 (ipykernel)",
   "language": "python",
   "name": "python3"
  },
  "language_info": {
   "codemirror_mode": {
    "name": "ipython",
    "version": 3
   },
   "file_extension": ".py",
   "mimetype": "text/x-python",
   "name": "python",
   "nbconvert_exporter": "python",
   "pygments_lexer": "ipython3",
   "version": "3.8.0"
  }
 },
 "nbformat": 4,
 "nbformat_minor": 5
}
